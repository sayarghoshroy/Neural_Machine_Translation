{
  "nbformat": 4,
  "nbformat_minor": 0,
  "metadata": {
    "colab": {
      "name": "attention_model.ipynb",
      "provenance": [],
      "collapsed_sections": [],
      "authorship_tag": "ABX9TyNVcIXTGgIvK5btCSlz9M5F",
      "include_colab_link": true
    },
    "kernelspec": {
      "name": "python3",
      "display_name": "Python 3"
    },
    "accelerator": "GPU"
  },
  "cells": [
    {
      "cell_type": "markdown",
      "metadata": {
        "id": "view-in-github",
        "colab_type": "text"
      },
      "source": [
        "<a href=\"https://colab.research.google.com/github/sayarghoshroy/Neural_Machine_Translation/blob/master/attention_model.ipynb\" target=\"_parent\"><img src=\"https://colab.research.google.com/assets/colab-badge.svg\" alt=\"Open In Colab\"/></a>"
      ]
    },
    {
      "cell_type": "code",
      "metadata": {
        "id": "GRVXvETYNvep",
        "colab_type": "code",
        "outputId": "dc41be3d-0d1c-412a-82f3-0d5ccb20f086",
        "colab": {
          "base_uri": "https://localhost:8080/",
          "height": 35
        }
      },
      "source": [
        "from google.colab import drive\n",
        "drive.mount('/content/drive')"
      ],
      "execution_count": 0,
      "outputs": [
        {
          "output_type": "stream",
          "text": [
            "Drive already mounted at /content/drive; to attempt to forcibly remount, call drive.mount(\"/content/drive\", force_remount=True).\n"
          ],
          "name": "stdout"
        }
      ]
    },
    {
      "cell_type": "code",
      "metadata": {
        "id": "4TT7NsSdN336",
        "colab_type": "code",
        "colab": {}
      },
      "source": [
        "tokenized_stores = {'en_train': [], 'en_dev': [], 'en_test': [], 'bn_train': [], 'bn_dev': [], 'bn_test': []}\n",
        "\n",
        "for key in tokenized_stores:\n",
        "    location = \"\"\n",
        "    # Add location here\n",
        "    file_name = location + str(key)[3:] + \".\" + str(key)[0:2]\n",
        "    load = open(file_name)\n",
        "    sentences = load.read().split('\\n')\n",
        "    \n",
        "    for sentence in sentences:\n",
        "        token_store = sentence.split(' ')\n",
        "        tokenized_stores[key].append(token_store)"
      ],
      "execution_count": 0,
      "outputs": []
    },
    {
      "cell_type": "code",
      "metadata": {
        "id": "QaEXI7bQN90l",
        "colab_type": "code",
        "colab": {}
      },
      "source": [
        "import torch\n",
        "import torch.nn as nn\n",
        "import torch.optim as optim\n",
        "from torchtext import data\n",
        "from torchtext import datasets\n",
        "\n",
        "import torch.nn.functional as F\n",
        "from torchtext.datasets import TranslationDataset\n",
        "from torchtext.data import Field, BucketIterator\n",
        "\n",
        "import spacy\n",
        "import numpy as np\n",
        "\n",
        "import random\n",
        "import math\n",
        "import time\n",
        "\n",
        "import os\n",
        "import json"
      ],
      "execution_count": 0,
      "outputs": []
    },
    {
      "cell_type": "code",
      "metadata": {
        "id": "8-mkICBfOAmC",
        "colab_type": "code",
        "colab": {}
      },
      "source": [
        "# using the json files for train, development and test set\n",
        "def identity(x):\n",
        "    return x\n",
        "\n",
        "SRC = Field(tokenize = identity, \n",
        "            init_token = '<sos>', \n",
        "            eos_token = '<eos>', \n",
        "            lower = True)\n",
        "\n",
        "TRG = Field(tokenize = identity, \n",
        "            init_token = '<sos>', \n",
        "            eos_token = '<eos>', \n",
        "            lower = True)\n",
        "\n",
        "src = data.Field()\n",
        "trg = data.Field()\n",
        "\n",
        "fields = {'src': (\"src\", SRC), 'trg': (\"trg\", TRG)}"
      ],
      "execution_count": 0,
      "outputs": []
    },
    {
      "cell_type": "code",
      "metadata": {
        "id": "B73t2uhAOFtY",
        "colab_type": "code",
        "colab": {}
      },
      "source": [
        "train_data, valid_data, test_data = data.TabularDataset.splits(\n",
        "                                        path = '/content/drive/My Drive/asn_2_data/',\n",
        "                                        train = 'train.json',\n",
        "                                        validation = 'dev.json',\n",
        "                                        test = 'test.json',\n",
        "                                        format = 'json',\n",
        "                                        fields = fields)"
      ],
      "execution_count": 0,
      "outputs": []
    },
    {
      "cell_type": "code",
      "metadata": {
        "id": "cD4cXxYlOIlj",
        "colab_type": "code",
        "colab": {}
      },
      "source": [
        "SEED = 1234\n",
        "random.seed(SEED)\n",
        "np.random.seed(SEED)\n",
        "torch.manual_seed(SEED)\n",
        "torch.cuda.manual_seed(SEED)\n",
        "torch.backends.cudnn.deterministic = True"
      ],
      "execution_count": 0,
      "outputs": []
    },
    {
      "cell_type": "code",
      "metadata": {
        "id": "ziKpNZQaOUyA",
        "colab_type": "code",
        "outputId": "efa498d9-d8de-434c-f34d-b544c442c7f7",
        "colab": {
          "base_uri": "https://localhost:8080/",
          "height": 72
        }
      },
      "source": [
        "print(\"Train Size:\", str(len(train_data.examples)))\n",
        "print(\"Validation Size:\", str(len(valid_data.examples)))\n",
        "print(\"Test Size:\", str(len(test_data.examples)))"
      ],
      "execution_count": 0,
      "outputs": [
        {
          "output_type": "stream",
          "text": [
            "Train Size: 49398\n",
            "Validation Size: 401\n",
            "Test Size: 200\n"
          ],
          "name": "stdout"
        }
      ]
    },
    {
      "cell_type": "code",
      "metadata": {
        "id": "doaAE17hOVVJ",
        "colab_type": "code",
        "outputId": "cfd36ab6-23dd-4bf3-f674-398fbd9bf94c",
        "colab": {
          "base_uri": "https://localhost:8080/",
          "height": 54
        }
      },
      "source": [
        "# Building the Vocabulary\n",
        "SRC.build_vocab(train_data, min_freq = 1)\n",
        "TRG.build_vocab(train_data, min_freq = 1)\n",
        "\n",
        "# Vocabulary Sizes\n",
        "print(\"Source Vocabulary Size:\", len(SRC.vocab))\n",
        "print(\"Target Vocabulary Size:\", len(TRG.vocab))"
      ],
      "execution_count": 0,
      "outputs": [
        {
          "output_type": "stream",
          "text": [
            "Source Vocabulary Size: 31850\n",
            "Target Vocabulary Size: 54513\n"
          ],
          "name": "stdout"
        }
      ]
    },
    {
      "cell_type": "code",
      "metadata": {
        "id": "RxhA-Am6OcQf",
        "colab_type": "code",
        "outputId": "be028577-7a33-485d-a0e1-1a97707689ab",
        "colab": {
          "base_uri": "https://localhost:8080/",
          "height": 35
        }
      },
      "source": [
        "device = torch.device('cuda' if torch.cuda.is_available() else 'cpu')\n",
        "print(device)"
      ],
      "execution_count": 0,
      "outputs": [
        {
          "output_type": "stream",
          "text": [
            "cuda\n"
          ],
          "name": "stdout"
        }
      ]
    },
    {
      "cell_type": "code",
      "metadata": {
        "id": "TEDdCE0WOmla",
        "colab_type": "code",
        "colab": {}
      },
      "source": [
        "BATCH_SIZE = 64\n",
        "\n",
        "train_iterator, valid_iterator, test_iterator = BucketIterator.splits(\n",
        "    (train_data, valid_data, test_data), \n",
        "    batch_size = BATCH_SIZE,\n",
        "    device = device,\n",
        "    sort = False)"
      ],
      "execution_count": 0,
      "outputs": []
    },
    {
      "cell_type": "code",
      "metadata": {
        "id": "AKHPCa-BOshP",
        "colab_type": "code",
        "colab": {}
      },
      "source": [
        "class Encoder(nn.Module):\n",
        "    def __init__(self, input_dim, emb_dim, enc_hid_dim, dec_hid_dim, dropout):\n",
        "        super().__init__()\n",
        "        self.embedding = nn.Embedding(input_dim, emb_dim)\n",
        "        self.rnn = nn.GRU(emb_dim, enc_hid_dim, bidirectional = True)\n",
        "        self.fc = nn.Linear(enc_hid_dim * 2, dec_hid_dim)\n",
        "        self.dropout = nn.Dropout(dropout)\n",
        "        \n",
        "    def forward(self, src):\n",
        "        #src = [src len, batch size]\n",
        "        embedded = self.dropout(self.embedding(src))\n",
        "        #embedded = [src len, batch size, emb dim]\n",
        "        outputs, hidden = self.rnn(embedded)\n",
        "        #outputs = [src len, batch size, hid dim * num directions]\n",
        "        #hidden = [n layers * num directions, batch size, hid dim]\n",
        "        #hidden is stacked [forward_1, backward_1, forward_2, backward_2, ...]\n",
        "        #outputs are always from the last layer\n",
        "        #hidden [-2, :, : ] is the last of the forwards RNN \n",
        "        #hidden [-1, :, : ] is the last of the backwards RNN\n",
        "        #initial decoder hidden is final hidden state of the forwards and backwards \n",
        "        #  encoder RNNs fed through a linear layer\n",
        "        hidden = torch.tanh(self.fc(torch.cat((hidden[-2,:,:], hidden[-1,:,:]), dim = 1)))\n",
        "        #outputs = [src len, batch size, enc hid dim * 2]\n",
        "        #hidden = [batch size, dec hid dim]\n",
        "        return outputs, hidden"
      ],
      "execution_count": 0,
      "outputs": []
    },
    {
      "cell_type": "code",
      "metadata": {
        "id": "NFlBcqlSO4bn",
        "colab_type": "code",
        "colab": {}
      },
      "source": [
        "class Attention(nn.Module):\n",
        "    def __init__(self, enc_hid_dim, dec_hid_dim):\n",
        "        super().__init__()\n",
        "        self.attn = nn.Linear((enc_hid_dim * 2) + dec_hid_dim, dec_hid_dim)\n",
        "        self.v = nn.Linear(dec_hid_dim, 1, bias = False)\n",
        "        \n",
        "    def forward(self, hidden, encoder_outputs):\n",
        "        #hidden = [batch size, dec hid dim]\n",
        "        #encoder_outputs = [src len, batch size, enc hid dim * 2]\n",
        "        batch_size = encoder_outputs.shape[1]\n",
        "        src_len = encoder_outputs.shape[0]\n",
        "        #repeat decoder hidden state src_len times\n",
        "        hidden = hidden.unsqueeze(1).repeat(1, src_len, 1)\n",
        "        encoder_outputs = encoder_outputs.permute(1, 0, 2)\n",
        "        #hidden = [batch size, src len, dec hid dim]\n",
        "        #encoder_outputs = [batch size, src len, enc hid dim * 2]\n",
        "        energy = torch.tanh(self.attn(torch.cat((hidden, encoder_outputs), dim = 2))) \n",
        "        #energy = [batch size, src len, dec hid dim]\n",
        "        attention = self.v(energy).squeeze(2)\n",
        "        #attention= [batch size, src len]\n",
        "        return F.softmax(attention, dim=1)"
      ],
      "execution_count": 0,
      "outputs": []
    },
    {
      "cell_type": "code",
      "metadata": {
        "id": "m1ErhWvCbXxp",
        "colab_type": "code",
        "colab": {}
      },
      "source": [
        "class Decoder(nn.Module):\n",
        "    def __init__(self, output_dim, emb_dim, enc_hid_dim, dec_hid_dim, dropout, attention):\n",
        "        super().__init__()\n",
        "        self.output_dim = output_dim\n",
        "        self.attention = attention\n",
        "        self.embedding = nn.Embedding(output_dim, emb_dim)\n",
        "        self.rnn = nn.GRU((enc_hid_dim * 2) + emb_dim, dec_hid_dim)\n",
        "        self.fc_out = nn.Linear((enc_hid_dim * 2) + dec_hid_dim + emb_dim, output_dim)\n",
        "        self.dropout = nn.Dropout(dropout)\n",
        "        \n",
        "    def forward(self, input, hidden, encoder_outputs): \n",
        "        #input = [batch size]\n",
        "        #hidden = [batch size, dec hid dim]\n",
        "        #encoder_outputs = [src len, batch size, enc hid dim * 2]\n",
        "        input = input.unsqueeze(0)\n",
        "        #input = [1, batch size]\n",
        "        \n",
        "        embedded = self.dropout(self.embedding(input))\n",
        "        #embedded = [1, batch size, emb dim]\n",
        "        a = self.attention(hidden, encoder_outputs)\n",
        "        #a = [batch size, src len]\n",
        "        a = a.unsqueeze(1)\n",
        "        #a = [batch size, 1, src len]\n",
        "        encoder_outputs = encoder_outputs.permute(1, 0, 2)\n",
        "        #encoder_outputs = [batch size, src len, enc hid dim * 2]\n",
        "        weighted = torch.bmm(a, encoder_outputs)\n",
        "        #weighted = [batch size, 1, enc hid dim * 2]\n",
        "        weighted = weighted.permute(1, 0, 2)\n",
        "        #weighted = [1, batch size, enc hid dim * 2]\n",
        "        \n",
        "        rnn_input = torch.cat((embedded, weighted), dim = 2)\n",
        "        #rnn_input = [1, batch size, (enc hid dim * 2) + emb dim]\n",
        "            \n",
        "        output, hidden = self.rnn(rnn_input, hidden.unsqueeze(0))\n",
        "        #output = [seq len, batch size, dec hid dim * n directions]\n",
        "        #hidden = [n layers * n directions, batch size, dec hid dim]\n",
        "        #seq len, n layers and n directions will always be 1 in this decoder, therefore:\n",
        "        #output = [1, batch size, dec hid dim]\n",
        "        #hidden = [1, batch size, dec hid dim]\n",
        "        #this also means that output == hidden\n",
        "        assert (output == hidden).all()\n",
        "        embedded = embedded.squeeze(0)\n",
        "        output = output.squeeze(0)\n",
        "        weighted = weighted.squeeze(0)\n",
        "        prediction = self.fc_out(torch.cat((output, weighted, embedded), dim = 1))\n",
        "        #prediction = [batch size, output dim]\n",
        "        return prediction, hidden.squeeze(0)"
      ],
      "execution_count": 0,
      "outputs": []
    },
    {
      "cell_type": "code",
      "metadata": {
        "id": "caGeaep_brxe",
        "colab_type": "code",
        "colab": {}
      },
      "source": [
        "class Seq2Seq(nn.Module):\n",
        "    def __init__(self, encoder, decoder, device):\n",
        "        super().__init__()\n",
        "        self.encoder = encoder\n",
        "        self.decoder = decoder\n",
        "        self.device = device\n",
        "        \n",
        "    def forward(self, src, trg, teacher_forcing_ratio = 0.5):\n",
        "        #src = [src len, batch size]\n",
        "        #trg = [trg len, batch size]\n",
        "        #teacher_forcing_ratio is probability to use teacher forcing\n",
        "        #e.g. if teacher_forcing_ratio is 0.75 we use teacher forcing 75% of the time\n",
        "        batch_size = src.shape[1]\n",
        "        trg_len = trg.shape[0]\n",
        "        trg_vocab_size = self.decoder.output_dim\n",
        "        \n",
        "        #tensor to store decoder outputs\n",
        "        outputs = torch.zeros(trg_len, batch_size, trg_vocab_size).to(self.device)\n",
        "        #encoder_outputs is all hidden states of the input sequence, back and forwards\n",
        "        #hidden is the final forward and backward hidden states, passed through a linear layer\n",
        "        encoder_outputs, hidden = self.encoder(src)\n",
        "                \n",
        "        #first input to the decoder is the <sos> tokens\n",
        "        input = trg[0,:]\n",
        "        \n",
        "        for t in range(1, trg_len):\n",
        "            #insert input token embedding, previous hidden state and all encoder hidden states\n",
        "            #receive output tensor (predictions) and new hidden state\n",
        "            output, hidden = self.decoder(input, hidden, encoder_outputs)\n",
        "            #place predictions in a tensor holding predictions for each token\n",
        "            outputs[t] = output\n",
        "            #decide if we are going to use teacher forcing or not\n",
        "            teacher_force = random.random() < teacher_forcing_ratio\n",
        "            #get the highest predicted token from our predictions\n",
        "            top1 = output.argmax(1) \n",
        "            #if teacher forcing, use actual next token as next input\n",
        "            #if not, use predicted token\n",
        "            input = trg[t] if teacher_force else top1\n",
        "\n",
        "        return outputs"
      ],
      "execution_count": 0,
      "outputs": []
    },
    {
      "cell_type": "code",
      "metadata": {
        "id": "6kYJVS7Zb4Z4",
        "colab_type": "code",
        "colab": {}
      },
      "source": [
        "INPUT_DIM = len(SRC.vocab)\n",
        "OUTPUT_DIM = len(TRG.vocab)\n",
        "ENC_EMB_DIM = 256\n",
        "DEC_EMB_DIM = 256\n",
        "ENC_HID_DIM = 512\n",
        "DEC_HID_DIM = 512\n",
        "ENC_DROPOUT = 0.5\n",
        "DEC_DROPOUT = 0.5\n",
        "\n",
        "attn = Attention(ENC_HID_DIM, DEC_HID_DIM)\n",
        "enc = Encoder(INPUT_DIM, ENC_EMB_DIM, ENC_HID_DIM, DEC_HID_DIM, ENC_DROPOUT)\n",
        "dec = Decoder(OUTPUT_DIM, DEC_EMB_DIM, ENC_HID_DIM, DEC_HID_DIM, DEC_DROPOUT, attn)\n",
        "\n",
        "model = Seq2Seq(enc, dec, device).to(device)"
      ],
      "execution_count": 0,
      "outputs": []
    },
    {
      "cell_type": "code",
      "metadata": {
        "id": "raMF7v3XcAOM",
        "colab_type": "code",
        "outputId": "c46e9ff4-b314-4884-8135-bcebf2d68f5d",
        "colab": {
          "base_uri": "https://localhost:8080/",
          "height": 346
        }
      },
      "source": [
        "def init_weights(m):\n",
        "    for name, param in m.named_parameters():\n",
        "        if 'weight' in name:\n",
        "            nn.init.normal_(param.data, mean=0, std=0.01)\n",
        "        else:\n",
        "            nn.init.constant_(param.data, 0)\n",
        "            \n",
        "model.apply(init_weights)"
      ],
      "execution_count": 0,
      "outputs": [
        {
          "output_type": "execute_result",
          "data": {
            "text/plain": [
              "Seq2Seq(\n",
              "  (encoder): Encoder(\n",
              "    (embedding): Embedding(31850, 256)\n",
              "    (rnn): GRU(256, 512, bidirectional=True)\n",
              "    (fc): Linear(in_features=1024, out_features=512, bias=True)\n",
              "    (dropout): Dropout(p=0.5, inplace=False)\n",
              "  )\n",
              "  (decoder): Decoder(\n",
              "    (attention): Attention(\n",
              "      (attn): Linear(in_features=1536, out_features=512, bias=True)\n",
              "      (v): Linear(in_features=512, out_features=1, bias=False)\n",
              "    )\n",
              "    (embedding): Embedding(54513, 256)\n",
              "    (rnn): GRU(1280, 512)\n",
              "    (fc_out): Linear(in_features=1792, out_features=54513, bias=True)\n",
              "    (dropout): Dropout(p=0.5, inplace=False)\n",
              "  )\n",
              ")"
            ]
          },
          "metadata": {
            "tags": []
          },
          "execution_count": 16
        }
      ]
    },
    {
      "cell_type": "code",
      "metadata": {
        "id": "Iv_tzO1XcBUk",
        "colab_type": "code",
        "outputId": "6eb0e898-b574-440e-db50-c3f71860378c",
        "colab": {
          "base_uri": "https://localhost:8080/",
          "height": 35
        }
      },
      "source": [
        "def count_parameters(model):\n",
        "    return sum(p.numel() for p in model.parameters() if p.requires_grad)\n",
        "\n",
        "print(f'The model has {count_parameters(model):,} trainable parameters')"
      ],
      "execution_count": 0,
      "outputs": [
        {
          "output_type": "stream",
          "text": [
            "The model has 126,284,017 trainable parameters\n"
          ],
          "name": "stdout"
        }
      ]
    },
    {
      "cell_type": "code",
      "metadata": {
        "id": "StWbu1_2cEEu",
        "colab_type": "code",
        "colab": {}
      },
      "source": [
        "optimizer = optim.Adam(model.parameters())\n",
        "TRG_PAD_IDX = TRG.vocab.stoi[TRG.pad_token]\n",
        "criterion = nn.CrossEntropyLoss(ignore_index = TRG_PAD_IDX)"
      ],
      "execution_count": 0,
      "outputs": []
    },
    {
      "cell_type": "code",
      "metadata": {
        "id": "yrF5Na49cLqD",
        "colab_type": "code",
        "colab": {}
      },
      "source": [
        "def train(model, iterator, optimizer, criterion, clip):\n",
        "    model.train()\n",
        "    epoch_loss = 0\n",
        "    \n",
        "    for i, batch in enumerate(iterator):\n",
        "        src = batch.src\n",
        "        trg = batch.trg\n",
        "        optimizer.zero_grad()\n",
        "        output = model(src, trg)\n",
        "        #trg = [trg len, batch size]\n",
        "        #output = [trg len, batch size, output dim]\n",
        "        output_dim = output.shape[-1]\n",
        "        output = output[1:].view(-1, output_dim)\n",
        "        trg = trg[1:].view(-1)\n",
        "        #trg = [(trg len - 1) * batch size]\n",
        "        #output = [(trg len - 1) * batch size, output dim]\n",
        "        loss = criterion(output, trg)\n",
        "        loss.backward()\n",
        "        torch.nn.utils.clip_grad_norm_(model.parameters(), clip)\n",
        "        optimizer.step()\n",
        "        epoch_loss += loss.item()\n",
        "        \n",
        "    return epoch_loss / len(iterator)"
      ],
      "execution_count": 0,
      "outputs": []
    },
    {
      "cell_type": "code",
      "metadata": {
        "id": "Onb1DcspcYI2",
        "colab_type": "code",
        "colab": {}
      },
      "source": [
        "def evaluate(model, iterator, criterion):\n",
        "    model.eval()\n",
        "    epoch_loss = 0\n",
        "\n",
        "    with torch.no_grad():\n",
        "        for i, batch in enumerate(iterator):\n",
        "            src = batch.src\n",
        "            trg = batch.trg\n",
        "            output = model(src, trg, 0) #turn off teacher forcing\n",
        "            #trg = [trg len, batch size]\n",
        "            #output = [trg len, batch size, output dim]\n",
        "            output_dim = output.shape[-1]\n",
        "            output = output[1:].view(-1, output_dim)\n",
        "            trg = trg[1:].view(-1)\n",
        "            #trg = [(trg len - 1) * batch size]\n",
        "            #output = [(trg len - 1) * batch size, output dim]\n",
        "            loss = criterion(output, trg)\n",
        "            epoch_loss += loss.item()\n",
        "        \n",
        "    return epoch_loss / len(iterator)"
      ],
      "execution_count": 0,
      "outputs": []
    },
    {
      "cell_type": "code",
      "metadata": {
        "id": "Slxvdj8pcgtg",
        "colab_type": "code",
        "colab": {}
      },
      "source": [
        "def epoch_time(start_time, end_time):\n",
        "    elapsed_time = end_time - start_time\n",
        "    elapsed_mins = int(elapsed_time / 60)\n",
        "    elapsed_secs = int(elapsed_time - (elapsed_mins * 60))\n",
        "    return elapsed_mins, elapsed_secs"
      ],
      "execution_count": 0,
      "outputs": []
    },
    {
      "cell_type": "code",
      "metadata": {
        "id": "UwFSnM5SciR2",
        "colab_type": "code",
        "outputId": "1457bf3f-203d-49b4-a65c-4b800868812d",
        "colab": {
          "base_uri": "https://localhost:8080/",
          "height": 200
        }
      },
      "source": [
        "N_EPOCHS = 25\n",
        "CLIP = 1\n",
        "\n",
        "best_valid_loss = float('inf')\n",
        "\n",
        "for epoch in range(N_EPOCHS):\n",
        "    \n",
        "    start_time = time.time()\n",
        "    \n",
        "    train_loss = train(model, train_iterator, optimizer, criterion, CLIP)\n",
        "    valid_loss = evaluate(model, valid_iterator, criterion)\n",
        "    \n",
        "    end_time = time.time()\n",
        "    \n",
        "    epoch_mins, epoch_secs = epoch_time(start_time, end_time)\n",
        "    \n",
        "    if valid_loss < best_valid_loss:\n",
        "        best_valid_loss = valid_loss\n",
        "        torch.save(model.state_dict(), '/content/drive/My Drive/asn_2_data/GRU-model.pt')\n",
        "\n",
        "    else:\n",
        "        print(\"Done.\")\n",
        "        break\n",
        "        # implementing early stopping\n",
        "    \n",
        "    print(f'Epoch: {epoch+1:02} | Time: {epoch_mins}m {epoch_secs}s')\n",
        "    print(f'\\tTrain Loss: {train_loss:.3f} | Train PPL: {math.exp(train_loss):7.3f}')\n",
        "    print(f'\\t Val. Loss: {valid_loss:.3f} |  Val. PPL: {math.exp(valid_loss):7.3f}')"
      ],
      "execution_count": 0,
      "outputs": [
        {
          "output_type": "stream",
          "text": [
            "Epoch: 01 | Time: 11m 17s\n",
            "\tTrain Loss: 7.130 | Train PPL: 1249.271\n",
            "\t Val. Loss: 7.062 |  Val. PPL: 1166.876\n",
            "Epoch: 02 | Time: 11m 17s\n",
            "\tTrain Loss: 6.040 | Train PPL: 420.044\n",
            "\t Val. Loss: 6.590 |  Val. PPL: 728.096\n",
            "Epoch: 03 | Time: 11m 17s\n",
            "\tTrain Loss: 5.119 | Train PPL: 167.226\n",
            "\t Val. Loss: 6.409 |  Val. PPL: 607.027\n",
            "Done.\n"
          ],
          "name": "stdout"
        }
      ]
    },
    {
      "cell_type": "code",
      "metadata": {
        "id": "uKHmd-ZeUQnq",
        "colab_type": "code",
        "outputId": "d25dc2d0-3b54-4d86-b0e1-fd3132f22c88",
        "colab": {
          "base_uri": "https://localhost:8080/",
          "height": 35
        }
      },
      "source": [
        "# Evaluation on the Test Set\n",
        "# Loading in the saved model\n",
        "model.load_state_dict(torch.load('/content/drive/My Drive/asn_2_data/GRU-model.pt'))\n",
        "test_loss = evaluate(model, test_iterator, criterion)\n",
        "print(f'| Test Loss: {test_loss:.3f} | Test PPL: {math.exp(test_loss):7.3f} |')"
      ],
      "execution_count": 0,
      "outputs": [
        {
          "output_type": "stream",
          "text": [
            "| Test Loss: 6.015 | Test PPL: 409.660 |\n"
          ],
          "name": "stdout"
        }
      ]
    },
    {
      "cell_type": "code",
      "metadata": {
        "id": "IGOqzejqaiEb",
        "colab_type": "code",
        "colab": {}
      },
      "source": [
        "# Inference\n",
        "def inference(model, sentence):\n",
        "    model.eval()\n",
        "    with torch.no_grad():\n",
        "        tokens = [token.lower() for token in sentence]\n",
        "\n",
        "        tokens = [SRC.init_token] + tokens + [SRC.eos_token]\n",
        "        src_indexes = [SRC.vocab.stoi[token] for token in tokens]\n",
        "        src_tensor = torch.LongTensor(src_indexes).unsqueeze(0).to(device)\n",
        "\n",
        "        src_tensor = src_tensor.reshape(-1,1)\n",
        "\n",
        "        # trg = batch.trg\n",
        "        output = model(src_tensor, src_tensor, 0) #turn off teacher forcing\n",
        "        # trg = [trg len, batch size]\n",
        "        # output = [trg len, batch size, output dim]\n",
        "        output_dim = output.shape[-1]\n",
        "        # output = output[1:].view(-1, output_dim)\n",
        "        output = output.view(-1, output_dim)\n",
        "        # trg = trg[1:].view(-1)\n",
        "        indices = torch.argmax(output,dim=1).tolist()\n",
        "\n",
        "        return indices"
      ],
      "execution_count": 0,
      "outputs": []
    },
    {
      "cell_type": "code",
      "metadata": {
        "id": "_ubLJr0UajVw",
        "colab_type": "code",
        "colab": {}
      },
      "source": [
        "def get_translation(sentence):\n",
        "    return [TRG.vocab.itos[x] for x in inference(model, sentence)]"
      ],
      "execution_count": 0,
      "outputs": []
    },
    {
      "cell_type": "code",
      "metadata": {
        "id": "SpfhtcxAao78",
        "colab_type": "code",
        "outputId": "7782263b-b812-4874-8b16-14c58e177d3a",
        "colab": {
          "base_uri": "https://localhost:8080/",
          "height": 403
        }
      },
      "source": [
        "bn_test_outputs = []\n",
        "count = 0\n",
        "for sentence in tokenized_stores['en_test']:\n",
        "    intermediate = get_translation(sentence)\n",
        "    output = list(filter(lambda x: x != '<eos>' and x!= '<unk>', intermediate))[1:]\n",
        "    if count < 20:\n",
        "        print(sentence, output)\n",
        "    count += 1\n",
        "    bn_test_outputs.append(output)"
      ],
      "execution_count": 0,
      "outputs": [
        {
          "output_type": "stream",
          "text": [
            "['Fresh', 'breath', 'and', 'shining', 'teeth', 'enhance', 'your', 'personality', '.'] ['ভালো', 'করে', 'দাঁত', 'এবং', 'দাঁত', 'আপনার', 'আপনার', 'আপনার', 'আপনার', 'সৌন্দর্য']\n",
            "['Your', 'self-confidence', 'also', 'increases', 'with', 'teeth', '.'] ['দাঁতের', 'সাথে', 'সাথে', 'দাঁতের', 'বৃদ্ধি', 'বৃদ্ধি', 'পায়', '৷']\n",
            "['Bacteria', 'stay', 'between', 'our', 'gums', 'and', 'teeth', '.'] ['আমাদের', 'মাড়ির', 'দাঁত', 'আর', 'দাঁত', 'আর', 'আর', 'আর', '৷']\n",
            "['They', 'make', 'teeth', 'dirty', 'and', 'breath', 'stinky', '.'] ['দাঁত', 'দাঁত', 'আর', 'আর', 'আর', 'আর', 'দাঁতে', 'লাগিয়ে', '৷']\n",
            "['You', 'may', 'keep', 'your', 'teeth', 'clean', 'and', 'breath', 'fresh', 'by', 'the', 'help', 'of', 'some', 'easy', 'tips', 'given', 'here', '.'] ['আপনি', 'আপনার', 'পরিষ্কার', 'পরিষ্কার', 'করে', 'আর', 'আপনার', 'আরাম', 'পাবেন', '৷']\n",
            "['Clean', 'your', 'teeth', 'properly', '.'] ['পরিষ্কার', 'পরিষ্কার', 'পরিষ্কার', 'পরিষ্কার', 'পরিষ্কার', 'পরিষ্কার']\n",
            "['It', 'takes', 'two', 'to', 'three', 'minutes', 'to', 'clean', 'your', 'teeth', 'properly', '.'] ['দুটো', 'পরিষ্কার', 'করার', 'জন্য', 'দুটো', 'পরিষ্কার', 'করে', 'পরিষ্কার', 'করে', '৷']\n",
            "['But', 'most', 'of', 'the', 'people', 'give', 'less', 'than', 'one', 'minute', 'for', 'this', '.'] ['কিন্তু', 'এই', 'লোকেদের', 'এই', 'জন্য', 'এই', 'থেকে', 'কম', 'কম', 'কম', 'কম', '৷', '৷']\n",
            "['Drink', 'plenty', 'of', 'water', '.'] ['জল', 'জল', 'পান', '৷']\n",
            "['Bacteria', 'attack', 'fast', 'if', 'the', 'mouth', 'dries', 'up', '.'] ['ব্যাক্টেরিয়া', 'আক্রান্ত', 'হয়ে', 'গেলে', 'যদি', 'তাড়াতাড়ি', 'তাড়াতাড়ি', 'হয়ে', 'যায়', '৷']\n",
            "['With', 'this', 'stink', 'comes', 'from', 'breath', '.'] ['এর', 'ফলে', 'নিশ্বাস', 'থেকে', 'থেকে', 'থেকে', 'যায়', '৷']\n",
            "['By', 'drinking', 'plenty', 'of', 'water', 'not', 'only', 'the', 'left-over', 'pieces', 'of', 'food', 'gets', 'cleaned', 'but', 'saliva', 'also', 'gets', 'formed', '.'] ['জল', 'পান', 'না', 'না', 'না', 'না', 'না', 'বরং', 'তা', 'পদার্থের', 'পদার্থের', 'পদার্থের', 'হয়ে', 'যায়', '৷']\n",
            "['Saliva', 'has', 'important', 'role', 'in', 'keeping', 'the', 'mouth', 'clean', '.'] ['মুখের', 'পরিষ্কার', 'পরিষ্কার', 'করার', 'গুরুত্বপূর্ণ', 'ভূমিকা', 'পালন', 'ভূমিকা', 'পালন', 'করে', '׀']\n",
            "['Saliva', 'destroys', 'those', 'bacteria', 'which', 'create', 'stink', 'in', 'breath', '.'] ['যকৃতে', 'ব্যাকটেরিয়া', 'ব্যাকটেরিয়া', 'যা', 'যা', 'ঘা', 'সৃষ্টি', 'করে', 'দেয়', '৷']\n",
            "['Chew', 'the', 'sugar-free', 'chewing', 'gum', '.'] ['দ্বিচক্রিকাসন', 'গিলটি', '-', 'করে', '৷']\n",
            "['Saliva', 'is', 'formed', 'by', 'chewing', 'the', 'chewing', 'gum', '.'] ['অটোনমিক', 'ব্যাথায়', 'লাগালে', 'লাগালে', 'হয়', '৷']\n",
            "['Chewing', 'gum', 'helps', 'in', 'keeping', 'the', 'teeth', 'clean', '.'] ['দাঁতের', 'পরিষ্কার', 'পরিষ্কার', 'করে', 'পরিষ্কার', 'করে', 'সাহায্য', 'করে', '৷']\n",
            "['Sugared', 'chewing', 'gum', 'is', 'not', 'supposed', 'to', 'be', 'good', 'for', 'health', '.'] ['‘', 'রসের', 'জন্য', 'স্বাস্থ্যের', 'পক্ষে', 'ক্ষতিকারক', 'হয়', 'না', '׀', 'না', '৷']\n",
            "['That', 'is', 'why', 'dentists', 'do', 'not', 'suggest', 'chewing', 'sugared', 'chewing', 'gum', '.'] ['অর্থাত্', 'চিকিত্সক', 'চিকিত্সক', 'না', 'না', 'না', 'না', 'না', '׀', 'না', '৷']\n",
            "['Get', 'the', 'teeth', 'checked-up', 'regularly', '.'] ['দাঁত', 'পরিষ্কার', 'করে', 'করে', '৷']\n"
          ],
          "name": "stdout"
        }
      ]
    },
    {
      "cell_type": "code",
      "metadata": {
        "id": "tJiP1yMyasRo",
        "colab_type": "code",
        "outputId": "e050b739-b8e5-4fed-f08f-e8d6d05ef2d6",
        "colab": {
          "base_uri": "https://localhost:8080/",
          "height": 35
        }
      },
      "source": [
        "import nltk\n",
        "BLEU_scores = []\n",
        "\n",
        "for index in range(len(tokenized_stores['bn_test'])):\n",
        "    BLEU_scores.append(nltk.translate.bleu_score.sentence_bleu([tokenized_stores['bn_test'][index]], bn_test_outputs[index], smoothing_function=nltk.translate.bleu_score.SmoothingFunction().method7))\n",
        "\n",
        "print(\"Average BLEU Score:\", np.mean(BLEU_scores))"
      ],
      "execution_count": 0,
      "outputs": [
        {
          "output_type": "stream",
          "text": [
            "Average BLEU Score: 0.28159428346110404\n"
          ],
          "name": "stdout"
        }
      ]
    },
    {
      "cell_type": "code",
      "metadata": {
        "id": "4AVH2FJQh054",
        "colab_type": "code",
        "colab": {}
      },
      "source": [
        "# ^_^ Thank You"
      ],
      "execution_count": 0,
      "outputs": []
    }
  ]
}